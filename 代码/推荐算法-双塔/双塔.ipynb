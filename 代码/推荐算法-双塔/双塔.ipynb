{
 "cells": [
  {
   "cell_type": "code",
   "execution_count": 1,
   "id": "022f051c",
   "metadata": {},
   "outputs": [],
   "source": [
    "import pandas as pd\n",
    "import numpy as np\n",
    "import tensorflow as tf\n",
    "from tensorflow import keras\n",
    "from tensorflow.keras import layers\n",
    "import matplotlib.pyplot as plt"
   ]
  },
  {
   "cell_type": "markdown",
   "id": "34039668",
   "metadata": {},
   "source": [
    "1.读取电影数据集（用户信息、电影信息、评分行为信息）"
   ]
  },
  {
   "cell_type": "code",
   "execution_count": 2,
   "id": "ccd321e7",
   "metadata": {},
   "outputs": [],
   "source": [
    "df_user = pd.read_csv(\"./ml-1m/users.dat\", \n",
    "                      sep=\"::\",header=None, engine=\"python\",\n",
    "                     encoding='iso-8859-1',\n",
    "                     names=\"UserID::Gender::Age::Occupation::Zip-code\".split(\"::\"))"
   ]
  },
  {
   "cell_type": "code",
   "execution_count": 3,
   "id": "34472f23",
   "metadata": {},
   "outputs": [
    {
     "data": {
      "text/html": [
       "<div>\n",
       "<style scoped>\n",
       "    .dataframe tbody tr th:only-of-type {\n",
       "        vertical-align: middle;\n",
       "    }\n",
       "\n",
       "    .dataframe tbody tr th {\n",
       "        vertical-align: top;\n",
       "    }\n",
       "\n",
       "    .dataframe thead th {\n",
       "        text-align: right;\n",
       "    }\n",
       "</style>\n",
       "<table border=\"1\" class=\"dataframe\">\n",
       "  <thead>\n",
       "    <tr style=\"text-align: right;\">\n",
       "      <th></th>\n",
       "      <th>UserID</th>\n",
       "      <th>Gender</th>\n",
       "      <th>Age</th>\n",
       "      <th>Occupation</th>\n",
       "      <th>Zip-code</th>\n",
       "    </tr>\n",
       "  </thead>\n",
       "  <tbody>\n",
       "    <tr>\n",
       "      <th>0</th>\n",
       "      <td>1</td>\n",
       "      <td>F</td>\n",
       "      <td>1</td>\n",
       "      <td>10</td>\n",
       "      <td>48067</td>\n",
       "    </tr>\n",
       "    <tr>\n",
       "      <th>1</th>\n",
       "      <td>2</td>\n",
       "      <td>M</td>\n",
       "      <td>56</td>\n",
       "      <td>16</td>\n",
       "      <td>70072</td>\n",
       "    </tr>\n",
       "    <tr>\n",
       "      <th>2</th>\n",
       "      <td>3</td>\n",
       "      <td>M</td>\n",
       "      <td>25</td>\n",
       "      <td>15</td>\n",
       "      <td>55117</td>\n",
       "    </tr>\n",
       "    <tr>\n",
       "      <th>3</th>\n",
       "      <td>4</td>\n",
       "      <td>M</td>\n",
       "      <td>45</td>\n",
       "      <td>7</td>\n",
       "      <td>02460</td>\n",
       "    </tr>\n",
       "    <tr>\n",
       "      <th>4</th>\n",
       "      <td>5</td>\n",
       "      <td>M</td>\n",
       "      <td>25</td>\n",
       "      <td>20</td>\n",
       "      <td>55455</td>\n",
       "    </tr>\n",
       "  </tbody>\n",
       "</table>\n",
       "</div>"
      ],
      "text/plain": [
       "   UserID Gender  Age  Occupation Zip-code\n",
       "0       1      F    1          10    48067\n",
       "1       2      M   56          16    70072\n",
       "2       3      M   25          15    55117\n",
       "3       4      M   45           7    02460\n",
       "4       5      M   25          20    55455"
      ]
     },
     "execution_count": 3,
     "metadata": {},
     "output_type": "execute_result"
    }
   ],
   "source": [
    "df_user.head()"
   ]
  },
  {
   "cell_type": "code",
   "execution_count": 4,
   "id": "8bc479d3",
   "metadata": {},
   "outputs": [],
   "source": [
    "df_movie = pd.read_csv(\"./ml-1m/movies.dat\", sep=\"::\",\n",
    "                      header=None, engine=\"python\",encoding=\"iso-8859-1\",\n",
    "                      names=\"MovieID::Title::Genres\".split(\"::\"))"
   ]
  },
  {
   "cell_type": "code",
   "execution_count": 5,
   "id": "89b4c577",
   "metadata": {},
   "outputs": [
    {
     "data": {
      "text/html": [
       "<div>\n",
       "<style scoped>\n",
       "    .dataframe tbody tr th:only-of-type {\n",
       "        vertical-align: middle;\n",
       "    }\n",
       "\n",
       "    .dataframe tbody tr th {\n",
       "        vertical-align: top;\n",
       "    }\n",
       "\n",
       "    .dataframe thead th {\n",
       "        text-align: right;\n",
       "    }\n",
       "</style>\n",
       "<table border=\"1\" class=\"dataframe\">\n",
       "  <thead>\n",
       "    <tr style=\"text-align: right;\">\n",
       "      <th></th>\n",
       "      <th>MovieID</th>\n",
       "      <th>Title</th>\n",
       "      <th>Genres</th>\n",
       "    </tr>\n",
       "  </thead>\n",
       "  <tbody>\n",
       "    <tr>\n",
       "      <th>0</th>\n",
       "      <td>1</td>\n",
       "      <td>Toy Story (1995)</td>\n",
       "      <td>Animation|Children's|Comedy</td>\n",
       "    </tr>\n",
       "    <tr>\n",
       "      <th>1</th>\n",
       "      <td>2</td>\n",
       "      <td>Jumanji (1995)</td>\n",
       "      <td>Adventure|Children's|Fantasy</td>\n",
       "    </tr>\n",
       "    <tr>\n",
       "      <th>2</th>\n",
       "      <td>3</td>\n",
       "      <td>Grumpier Old Men (1995)</td>\n",
       "      <td>Comedy|Romance</td>\n",
       "    </tr>\n",
       "    <tr>\n",
       "      <th>3</th>\n",
       "      <td>4</td>\n",
       "      <td>Waiting to Exhale (1995)</td>\n",
       "      <td>Comedy|Drama</td>\n",
       "    </tr>\n",
       "    <tr>\n",
       "      <th>4</th>\n",
       "      <td>5</td>\n",
       "      <td>Father of the Bride Part II (1995)</td>\n",
       "      <td>Comedy</td>\n",
       "    </tr>\n",
       "  </tbody>\n",
       "</table>\n",
       "</div>"
      ],
      "text/plain": [
       "   MovieID                               Title                        Genres\n",
       "0        1                    Toy Story (1995)   Animation|Children's|Comedy\n",
       "1        2                      Jumanji (1995)  Adventure|Children's|Fantasy\n",
       "2        3             Grumpier Old Men (1995)                Comedy|Romance\n",
       "3        4            Waiting to Exhale (1995)                  Comedy|Drama\n",
       "4        5  Father of the Bride Part II (1995)                        Comedy"
      ]
     },
     "execution_count": 5,
     "metadata": {},
     "output_type": "execute_result"
    }
   ],
   "source": [
    "df_movie.head()"
   ]
  },
  {
   "cell_type": "code",
   "execution_count": 6,
   "id": "bf833942",
   "metadata": {},
   "outputs": [
    {
     "data": {
      "text/plain": [
       "(3883, 3)"
      ]
     },
     "execution_count": 6,
     "metadata": {},
     "output_type": "execute_result"
    }
   ],
   "source": [
    "df_movie.shape"
   ]
  },
  {
   "cell_type": "code",
   "execution_count": 7,
   "id": "9dd5f97e",
   "metadata": {},
   "outputs": [],
   "source": [
    "df_rating = pd.read_csv(\"./ml-1m/ratings.dat\", sep=\"::\",\n",
    "                       header=None, engine=\"python\", encoding=\"iso-8859-1\",\n",
    "                       names=\"UserID::MovieID::Rating::Timestamp\".split(\"::\"))"
   ]
  },
  {
   "cell_type": "code",
   "execution_count": 8,
   "id": "5d0115e2",
   "metadata": {},
   "outputs": [
    {
     "data": {
      "text/html": [
       "<div>\n",
       "<style scoped>\n",
       "    .dataframe tbody tr th:only-of-type {\n",
       "        vertical-align: middle;\n",
       "    }\n",
       "\n",
       "    .dataframe tbody tr th {\n",
       "        vertical-align: top;\n",
       "    }\n",
       "\n",
       "    .dataframe thead th {\n",
       "        text-align: right;\n",
       "    }\n",
       "</style>\n",
       "<table border=\"1\" class=\"dataframe\">\n",
       "  <thead>\n",
       "    <tr style=\"text-align: right;\">\n",
       "      <th></th>\n",
       "      <th>UserID</th>\n",
       "      <th>MovieID</th>\n",
       "      <th>Rating</th>\n",
       "      <th>Timestamp</th>\n",
       "    </tr>\n",
       "  </thead>\n",
       "  <tbody>\n",
       "    <tr>\n",
       "      <th>0</th>\n",
       "      <td>1</td>\n",
       "      <td>1193</td>\n",
       "      <td>5</td>\n",
       "      <td>978300760</td>\n",
       "    </tr>\n",
       "    <tr>\n",
       "      <th>1</th>\n",
       "      <td>1</td>\n",
       "      <td>661</td>\n",
       "      <td>3</td>\n",
       "      <td>978302109</td>\n",
       "    </tr>\n",
       "    <tr>\n",
       "      <th>2</th>\n",
       "      <td>1</td>\n",
       "      <td>914</td>\n",
       "      <td>3</td>\n",
       "      <td>978301968</td>\n",
       "    </tr>\n",
       "    <tr>\n",
       "      <th>3</th>\n",
       "      <td>1</td>\n",
       "      <td>3408</td>\n",
       "      <td>4</td>\n",
       "      <td>978300275</td>\n",
       "    </tr>\n",
       "    <tr>\n",
       "      <th>4</th>\n",
       "      <td>1</td>\n",
       "      <td>2355</td>\n",
       "      <td>5</td>\n",
       "      <td>978824291</td>\n",
       "    </tr>\n",
       "  </tbody>\n",
       "</table>\n",
       "</div>"
      ],
      "text/plain": [
       "   UserID  MovieID  Rating  Timestamp\n",
       "0       1     1193       5  978300760\n",
       "1       1      661       3  978302109\n",
       "2       1      914       3  978301968\n",
       "3       1     3408       4  978300275\n",
       "4       1     2355       5  978824291"
      ]
     },
     "execution_count": 8,
     "metadata": {},
     "output_type": "execute_result"
    }
   ],
   "source": [
    "df_rating.head()"
   ]
  },
  {
   "cell_type": "code",
   "execution_count": 9,
   "id": "a7fdfd16",
   "metadata": {},
   "outputs": [
    {
     "data": {
      "text/plain": [
       "(1000209, 4)"
      ]
     },
     "execution_count": 9,
     "metadata": {},
     "output_type": "execute_result"
    }
   ],
   "source": [
    "df_rating.shape"
   ]
  },
  {
   "cell_type": "markdown",
   "id": "6ff85a0c",
   "metadata": {},
   "source": [
    "2.计算电影中每个题材的次数"
   ]
  },
  {
   "cell_type": "code",
   "execution_count": 10,
   "id": "4320be2c",
   "metadata": {},
   "outputs": [],
   "source": [
    "import collections\n",
    "genre_count = collections.defaultdict(int)\n",
    "for genres in df_movie[\"Genres\"].str.split(\"|\"):\n",
    "    for genre in genres :\n",
    "        genre_count[genre] += 1\n"
   ]
  },
  {
   "cell_type": "code",
   "execution_count": 11,
   "id": "cab9257c",
   "metadata": {},
   "outputs": [
    {
     "data": {
      "text/plain": [
       "defaultdict(int,\n",
       "            {'Animation': 105,\n",
       "             \"Children's\": 251,\n",
       "             'Comedy': 1200,\n",
       "             'Adventure': 283,\n",
       "             'Fantasy': 68,\n",
       "             'Romance': 471,\n",
       "             'Drama': 1603,\n",
       "             'Action': 503,\n",
       "             'Crime': 211,\n",
       "             'Thriller': 492,\n",
       "             'Horror': 343,\n",
       "             'Sci-Fi': 276,\n",
       "             'Documentary': 127,\n",
       "             'War': 143,\n",
       "             'Musical': 114,\n",
       "             'Mystery': 106,\n",
       "             'Film-Noir': 44,\n",
       "             'Western': 68})"
      ]
     },
     "execution_count": 11,
     "metadata": {},
     "output_type": "execute_result"
    }
   ],
   "source": [
    "genre_count"
   ]
  },
  {
   "cell_type": "markdown",
   "id": "6ecace23",
   "metadata": {},
   "source": [
    "3.特征处理\n",
    "\n",
    "3.1 每个电影只保留频率最高（代表性）的电影题材标签\n",
    "\n",
    "sorted函数，其中，iterable 表示指定的序列，key 参数可以自定义排序规则；reverse 参数指定以升序（False，默认）还是降序（True）进行排序。sorted() 函数会返回一个排好序的列表。 "
   ]
  },
  {
   "cell_type": "code",
   "execution_count": 12,
   "id": "1fea622f",
   "metadata": {},
   "outputs": [],
   "source": [
    "def get_highrate_genre(x):\n",
    "    sub_value = {}\n",
    "    for genre in x.split(\"|\") :\n",
    "        sub_value[genre] = genre_count[genre]\n",
    "    return sorted(sub_value.items(), key=lambda x:x[1],reverse=True)[0][0]"
   ]
  },
  {
   "cell_type": "code",
   "execution_count": 13,
   "id": "c55f507f",
   "metadata": {},
   "outputs": [],
   "source": [
    "df_movie[\"Genres\"] = df_movie[\"Genres\"].map(get_highrate_genre)"
   ]
  },
  {
   "cell_type": "code",
   "execution_count": 14,
   "id": "b8fd3ee4",
   "metadata": {},
   "outputs": [
    {
     "data": {
      "text/plain": [
       "0       Comedy\n",
       "1    Adventure\n",
       "2       Comedy\n",
       "3        Drama\n",
       "4       Comedy\n",
       "Name: Genres, dtype: object"
      ]
     },
     "execution_count": 14,
     "metadata": {},
     "output_type": "execute_result"
    }
   ],
   "source": [
    "df_movie[\"Genres\"].head()"
   ]
  },
  {
   "cell_type": "markdown",
   "id": "588d8536",
   "metadata": {},
   "source": [
    "3.2 给特征做序列编码\n",
    "python教程\n",
    "http://c.biancheng.net/view/2239.html\n",
    "3.2.1 enumerate(sequence, [start=0])\n",
    "\n",
    "    sequence -- 一个序列、迭代器或其他支持迭代对象。\n",
    "    start -- 下标起始位置。\n",
    "    返回 enumerate(枚举) 对象。\n",
    "    >>>seasons = ['Spring', 'Summer', 'Fall', 'Winter']\n",
    "    >>> list(enumerate(seasons))\n",
    "    [(0, 'Spring'), (1, 'Summer'), (2, 'Fall'), (3, 'Winter')]\n",
    "    >>> list(enumerate(seasons, start=1))       # 下标从 1 开始\n",
    "    [(1, 'Spring'), (2, 'Summer'), (3, 'Fall'), (4, 'Winter')]\n",
    "    >>> tuple(enumerate(seasons, start=1))\n",
    "    ((1, 'Spring'), (2, 'Summer'), (3, 'Fall'), (4, 'Winter'))\n"
   ]
  },
  {
   "cell_type": "code",
   "execution_count": 15,
   "id": "be1cb6ff",
   "metadata": {},
   "outputs": [],
   "source": [
    "def add_index_column(param_df, colum_name):\n",
    "    values = list(param_df[colum_name].unique())\n",
    "    #得到dict词表\n",
    "    value_index_dict = {v:idx for idx, v in enumerate(values)}\n",
    "    param_df[f\"{colum_name}_idx\"] = param_df[colum_name].map(value_index_dict)"
   ]
  },
  {
   "cell_type": "code",
   "execution_count": 16,
   "id": "a784b445",
   "metadata": {},
   "outputs": [],
   "source": [
    "add_index_column(df_user, \"UserID\")\n",
    "add_index_column(df_user, \"Gender\")\n",
    "add_index_column(df_user, \"Age\")\n",
    "add_index_column(df_user, \"Occupation\")\n",
    "add_index_column(df_movie, \"MovieID\")\n",
    "add_index_column(df_movie, \"Genres\")"
   ]
  },
  {
   "cell_type": "code",
   "execution_count": 17,
   "id": "03167e4a",
   "metadata": {},
   "outputs": [
    {
     "data": {
      "text/html": [
       "<div>\n",
       "<style scoped>\n",
       "    .dataframe tbody tr th:only-of-type {\n",
       "        vertical-align: middle;\n",
       "    }\n",
       "\n",
       "    .dataframe tbody tr th {\n",
       "        vertical-align: top;\n",
       "    }\n",
       "\n",
       "    .dataframe thead th {\n",
       "        text-align: right;\n",
       "    }\n",
       "</style>\n",
       "<table border=\"1\" class=\"dataframe\">\n",
       "  <thead>\n",
       "    <tr style=\"text-align: right;\">\n",
       "      <th></th>\n",
       "      <th>UserID</th>\n",
       "      <th>Gender</th>\n",
       "      <th>Age</th>\n",
       "      <th>Occupation</th>\n",
       "      <th>Zip-code</th>\n",
       "      <th>UserID_idx</th>\n",
       "      <th>Gender_idx</th>\n",
       "      <th>Age_idx</th>\n",
       "      <th>Occupation_idx</th>\n",
       "    </tr>\n",
       "  </thead>\n",
       "  <tbody>\n",
       "    <tr>\n",
       "      <th>0</th>\n",
       "      <td>1</td>\n",
       "      <td>F</td>\n",
       "      <td>1</td>\n",
       "      <td>10</td>\n",
       "      <td>48067</td>\n",
       "      <td>0</td>\n",
       "      <td>0</td>\n",
       "      <td>0</td>\n",
       "      <td>0</td>\n",
       "    </tr>\n",
       "    <tr>\n",
       "      <th>1</th>\n",
       "      <td>2</td>\n",
       "      <td>M</td>\n",
       "      <td>56</td>\n",
       "      <td>16</td>\n",
       "      <td>70072</td>\n",
       "      <td>1</td>\n",
       "      <td>1</td>\n",
       "      <td>1</td>\n",
       "      <td>1</td>\n",
       "    </tr>\n",
       "    <tr>\n",
       "      <th>2</th>\n",
       "      <td>3</td>\n",
       "      <td>M</td>\n",
       "      <td>25</td>\n",
       "      <td>15</td>\n",
       "      <td>55117</td>\n",
       "      <td>2</td>\n",
       "      <td>1</td>\n",
       "      <td>2</td>\n",
       "      <td>2</td>\n",
       "    </tr>\n",
       "    <tr>\n",
       "      <th>3</th>\n",
       "      <td>4</td>\n",
       "      <td>M</td>\n",
       "      <td>45</td>\n",
       "      <td>7</td>\n",
       "      <td>02460</td>\n",
       "      <td>3</td>\n",
       "      <td>1</td>\n",
       "      <td>3</td>\n",
       "      <td>3</td>\n",
       "    </tr>\n",
       "    <tr>\n",
       "      <th>4</th>\n",
       "      <td>5</td>\n",
       "      <td>M</td>\n",
       "      <td>25</td>\n",
       "      <td>20</td>\n",
       "      <td>55455</td>\n",
       "      <td>4</td>\n",
       "      <td>1</td>\n",
       "      <td>2</td>\n",
       "      <td>4</td>\n",
       "    </tr>\n",
       "  </tbody>\n",
       "</table>\n",
       "</div>"
      ],
      "text/plain": [
       "   UserID Gender  Age  Occupation Zip-code  UserID_idx  Gender_idx  Age_idx  \\\n",
       "0       1      F    1          10    48067           0           0        0   \n",
       "1       2      M   56          16    70072           1           1        1   \n",
       "2       3      M   25          15    55117           2           1        2   \n",
       "3       4      M   45           7    02460           3           1        3   \n",
       "4       5      M   25          20    55455           4           1        2   \n",
       "\n",
       "   Occupation_idx  \n",
       "0               0  \n",
       "1               1  \n",
       "2               2  \n",
       "3               3  \n",
       "4               4  "
      ]
     },
     "execution_count": 17,
     "metadata": {},
     "output_type": "execute_result"
    }
   ],
   "source": [
    "df_user.head()"
   ]
  },
  {
   "cell_type": "code",
   "execution_count": 18,
   "id": "1933e97a",
   "metadata": {},
   "outputs": [
    {
     "data": {
      "text/html": [
       "<div>\n",
       "<style scoped>\n",
       "    .dataframe tbody tr th:only-of-type {\n",
       "        vertical-align: middle;\n",
       "    }\n",
       "\n",
       "    .dataframe tbody tr th {\n",
       "        vertical-align: top;\n",
       "    }\n",
       "\n",
       "    .dataframe thead th {\n",
       "        text-align: right;\n",
       "    }\n",
       "</style>\n",
       "<table border=\"1\" class=\"dataframe\">\n",
       "  <thead>\n",
       "    <tr style=\"text-align: right;\">\n",
       "      <th></th>\n",
       "      <th>MovieID</th>\n",
       "      <th>Title</th>\n",
       "      <th>Genres</th>\n",
       "      <th>MovieID_idx</th>\n",
       "      <th>Genres_idx</th>\n",
       "    </tr>\n",
       "  </thead>\n",
       "  <tbody>\n",
       "    <tr>\n",
       "      <th>0</th>\n",
       "      <td>1</td>\n",
       "      <td>Toy Story (1995)</td>\n",
       "      <td>Comedy</td>\n",
       "      <td>0</td>\n",
       "      <td>0</td>\n",
       "    </tr>\n",
       "    <tr>\n",
       "      <th>1</th>\n",
       "      <td>2</td>\n",
       "      <td>Jumanji (1995)</td>\n",
       "      <td>Adventure</td>\n",
       "      <td>1</td>\n",
       "      <td>1</td>\n",
       "    </tr>\n",
       "    <tr>\n",
       "      <th>2</th>\n",
       "      <td>3</td>\n",
       "      <td>Grumpier Old Men (1995)</td>\n",
       "      <td>Comedy</td>\n",
       "      <td>2</td>\n",
       "      <td>0</td>\n",
       "    </tr>\n",
       "    <tr>\n",
       "      <th>3</th>\n",
       "      <td>4</td>\n",
       "      <td>Waiting to Exhale (1995)</td>\n",
       "      <td>Drama</td>\n",
       "      <td>3</td>\n",
       "      <td>2</td>\n",
       "    </tr>\n",
       "    <tr>\n",
       "      <th>4</th>\n",
       "      <td>5</td>\n",
       "      <td>Father of the Bride Part II (1995)</td>\n",
       "      <td>Comedy</td>\n",
       "      <td>4</td>\n",
       "      <td>0</td>\n",
       "    </tr>\n",
       "  </tbody>\n",
       "</table>\n",
       "</div>"
      ],
      "text/plain": [
       "   MovieID                               Title     Genres  MovieID_idx  \\\n",
       "0        1                    Toy Story (1995)     Comedy            0   \n",
       "1        2                      Jumanji (1995)  Adventure            1   \n",
       "2        3             Grumpier Old Men (1995)     Comedy            2   \n",
       "3        4            Waiting to Exhale (1995)      Drama            3   \n",
       "4        5  Father of the Bride Part II (1995)     Comedy            4   \n",
       "\n",
       "   Genres_idx  \n",
       "0           0  \n",
       "1           1  \n",
       "2           0  \n",
       "3           2  \n",
       "4           0  "
      ]
     },
     "execution_count": 18,
     "metadata": {},
     "output_type": "execute_result"
    }
   ],
   "source": [
    "df_movie.head()"
   ]
  },
  {
   "cell_type": "code",
   "execution_count": 19,
   "id": "4a8c3b84",
   "metadata": {},
   "outputs": [
    {
     "data": {
      "text/html": [
       "<div>\n",
       "<style scoped>\n",
       "    .dataframe tbody tr th:only-of-type {\n",
       "        vertical-align: middle;\n",
       "    }\n",
       "\n",
       "    .dataframe tbody tr th {\n",
       "        vertical-align: top;\n",
       "    }\n",
       "\n",
       "    .dataframe thead th {\n",
       "        text-align: right;\n",
       "    }\n",
       "</style>\n",
       "<table border=\"1\" class=\"dataframe\">\n",
       "  <thead>\n",
       "    <tr style=\"text-align: right;\">\n",
       "      <th></th>\n",
       "      <th>UserID</th>\n",
       "      <th>MovieID</th>\n",
       "      <th>Rating</th>\n",
       "      <th>Timestamp</th>\n",
       "    </tr>\n",
       "  </thead>\n",
       "  <tbody>\n",
       "    <tr>\n",
       "      <th>0</th>\n",
       "      <td>1</td>\n",
       "      <td>1193</td>\n",
       "      <td>5</td>\n",
       "      <td>978300760</td>\n",
       "    </tr>\n",
       "    <tr>\n",
       "      <th>1</th>\n",
       "      <td>1</td>\n",
       "      <td>661</td>\n",
       "      <td>3</td>\n",
       "      <td>978302109</td>\n",
       "    </tr>\n",
       "    <tr>\n",
       "      <th>2</th>\n",
       "      <td>1</td>\n",
       "      <td>914</td>\n",
       "      <td>3</td>\n",
       "      <td>978301968</td>\n",
       "    </tr>\n",
       "    <tr>\n",
       "      <th>3</th>\n",
       "      <td>1</td>\n",
       "      <td>3408</td>\n",
       "      <td>4</td>\n",
       "      <td>978300275</td>\n",
       "    </tr>\n",
       "    <tr>\n",
       "      <th>4</th>\n",
       "      <td>1</td>\n",
       "      <td>2355</td>\n",
       "      <td>5</td>\n",
       "      <td>978824291</td>\n",
       "    </tr>\n",
       "  </tbody>\n",
       "</table>\n",
       "</div>"
      ],
      "text/plain": [
       "   UserID  MovieID  Rating  Timestamp\n",
       "0       1     1193       5  978300760\n",
       "1       1      661       3  978302109\n",
       "2       1      914       3  978301968\n",
       "3       1     3408       4  978300275\n",
       "4       1     2355       5  978824291"
      ]
     },
     "execution_count": 19,
     "metadata": {},
     "output_type": "execute_result"
    }
   ],
   "source": [
    "df_rating.head()"
   ]
  },
  {
   "cell_type": "markdown",
   "id": "bb575ddf",
   "metadata": {},
   "source": [
    "3.3 合并为一个表格"
   ]
  },
  {
   "cell_type": "code",
   "execution_count": 20,
   "id": "11c7f0a3",
   "metadata": {},
   "outputs": [],
   "source": [
    "df = pd.merge(pd.merge(df_rating, df_user), df_movie)"
   ]
  },
  {
   "cell_type": "code",
   "execution_count": 21,
   "id": "8f4fe6ab",
   "metadata": {},
   "outputs": [
    {
     "data": {
      "text/html": [
       "<div>\n",
       "<style scoped>\n",
       "    .dataframe tbody tr th:only-of-type {\n",
       "        vertical-align: middle;\n",
       "    }\n",
       "\n",
       "    .dataframe tbody tr th {\n",
       "        vertical-align: top;\n",
       "    }\n",
       "\n",
       "    .dataframe thead th {\n",
       "        text-align: right;\n",
       "    }\n",
       "</style>\n",
       "<table border=\"1\" class=\"dataframe\">\n",
       "  <thead>\n",
       "    <tr style=\"text-align: right;\">\n",
       "      <th></th>\n",
       "      <th>UserID</th>\n",
       "      <th>MovieID</th>\n",
       "      <th>Rating</th>\n",
       "      <th>Timestamp</th>\n",
       "      <th>Gender</th>\n",
       "      <th>Age</th>\n",
       "      <th>Occupation</th>\n",
       "      <th>Zip-code</th>\n",
       "      <th>UserID_idx</th>\n",
       "      <th>Gender_idx</th>\n",
       "      <th>Age_idx</th>\n",
       "      <th>Occupation_idx</th>\n",
       "      <th>Title</th>\n",
       "      <th>Genres</th>\n",
       "      <th>MovieID_idx</th>\n",
       "      <th>Genres_idx</th>\n",
       "    </tr>\n",
       "  </thead>\n",
       "  <tbody>\n",
       "    <tr>\n",
       "      <th>0</th>\n",
       "      <td>1</td>\n",
       "      <td>1193</td>\n",
       "      <td>5</td>\n",
       "      <td>978300760</td>\n",
       "      <td>F</td>\n",
       "      <td>1</td>\n",
       "      <td>10</td>\n",
       "      <td>48067</td>\n",
       "      <td>0</td>\n",
       "      <td>0</td>\n",
       "      <td>0</td>\n",
       "      <td>0</td>\n",
       "      <td>One Flew Over the Cuckoo's Nest (1975)</td>\n",
       "      <td>Drama</td>\n",
       "      <td>1176</td>\n",
       "      <td>2</td>\n",
       "    </tr>\n",
       "    <tr>\n",
       "      <th>1</th>\n",
       "      <td>2</td>\n",
       "      <td>1193</td>\n",
       "      <td>5</td>\n",
       "      <td>978298413</td>\n",
       "      <td>M</td>\n",
       "      <td>56</td>\n",
       "      <td>16</td>\n",
       "      <td>70072</td>\n",
       "      <td>1</td>\n",
       "      <td>1</td>\n",
       "      <td>1</td>\n",
       "      <td>1</td>\n",
       "      <td>One Flew Over the Cuckoo's Nest (1975)</td>\n",
       "      <td>Drama</td>\n",
       "      <td>1176</td>\n",
       "      <td>2</td>\n",
       "    </tr>\n",
       "    <tr>\n",
       "      <th>2</th>\n",
       "      <td>12</td>\n",
       "      <td>1193</td>\n",
       "      <td>4</td>\n",
       "      <td>978220179</td>\n",
       "      <td>M</td>\n",
       "      <td>25</td>\n",
       "      <td>12</td>\n",
       "      <td>32793</td>\n",
       "      <td>11</td>\n",
       "      <td>1</td>\n",
       "      <td>2</td>\n",
       "      <td>7</td>\n",
       "      <td>One Flew Over the Cuckoo's Nest (1975)</td>\n",
       "      <td>Drama</td>\n",
       "      <td>1176</td>\n",
       "      <td>2</td>\n",
       "    </tr>\n",
       "    <tr>\n",
       "      <th>3</th>\n",
       "      <td>15</td>\n",
       "      <td>1193</td>\n",
       "      <td>4</td>\n",
       "      <td>978199279</td>\n",
       "      <td>M</td>\n",
       "      <td>25</td>\n",
       "      <td>7</td>\n",
       "      <td>22903</td>\n",
       "      <td>14</td>\n",
       "      <td>1</td>\n",
       "      <td>2</td>\n",
       "      <td>3</td>\n",
       "      <td>One Flew Over the Cuckoo's Nest (1975)</td>\n",
       "      <td>Drama</td>\n",
       "      <td>1176</td>\n",
       "      <td>2</td>\n",
       "    </tr>\n",
       "    <tr>\n",
       "      <th>4</th>\n",
       "      <td>17</td>\n",
       "      <td>1193</td>\n",
       "      <td>5</td>\n",
       "      <td>978158471</td>\n",
       "      <td>M</td>\n",
       "      <td>50</td>\n",
       "      <td>1</td>\n",
       "      <td>95350</td>\n",
       "      <td>16</td>\n",
       "      <td>1</td>\n",
       "      <td>4</td>\n",
       "      <td>6</td>\n",
       "      <td>One Flew Over the Cuckoo's Nest (1975)</td>\n",
       "      <td>Drama</td>\n",
       "      <td>1176</td>\n",
       "      <td>2</td>\n",
       "    </tr>\n",
       "  </tbody>\n",
       "</table>\n",
       "</div>"
      ],
      "text/plain": [
       "   UserID  MovieID  Rating  Timestamp Gender  Age  Occupation Zip-code  \\\n",
       "0       1     1193       5  978300760      F    1          10    48067   \n",
       "1       2     1193       5  978298413      M   56          16    70072   \n",
       "2      12     1193       4  978220179      M   25          12    32793   \n",
       "3      15     1193       4  978199279      M   25           7    22903   \n",
       "4      17     1193       5  978158471      M   50           1    95350   \n",
       "\n",
       "   UserID_idx  Gender_idx  Age_idx  Occupation_idx  \\\n",
       "0           0           0        0               0   \n",
       "1           1           1        1               1   \n",
       "2          11           1        2               7   \n",
       "3          14           1        2               3   \n",
       "4          16           1        4               6   \n",
       "\n",
       "                                    Title Genres  MovieID_idx  Genres_idx  \n",
       "0  One Flew Over the Cuckoo's Nest (1975)  Drama         1176           2  \n",
       "1  One Flew Over the Cuckoo's Nest (1975)  Drama         1176           2  \n",
       "2  One Flew Over the Cuckoo's Nest (1975)  Drama         1176           2  \n",
       "3  One Flew Over the Cuckoo's Nest (1975)  Drama         1176           2  \n",
       "4  One Flew Over the Cuckoo's Nest (1975)  Drama         1176           2  "
      ]
     },
     "execution_count": 21,
     "metadata": {},
     "output_type": "execute_result"
    }
   ],
   "source": [
    "df.head()"
   ]
  },
  {
   "cell_type": "code",
   "execution_count": 22,
   "id": "43023102",
   "metadata": {},
   "outputs": [],
   "source": [
    "df.drop(columns=[\"Timestamp\",\"Zip-code\",\"Title\"], inplace=True)"
   ]
  },
  {
   "cell_type": "markdown",
   "id": "e1463e52",
   "metadata": {},
   "source": [
    "https://blog.csdn.net/Daisy4/article/details/121548990\n",
    "DataFrame.sample方法主要是用来对DataFrame进行简单随机抽样的。\n",
    "参数\n",
    "--n  设置抽样数量,这个参数不能与frac参数同时使用，而且如果没有指定frac参数，n参数的默认值是1。\n",
    "--frac   设置抽样比例\n",
    "--replace   设置是否放回, replace接收一个bool类型数据，False表示执行无放回抽样，True表示执行有放回抽样。默认值为False，即执行无放回抽样。\n",
    "\n",
    "--weights   设置样本权重\n",
    "--random_state   设置随机数种子\n",
    "--axis sample方法可以对行进行抽样，也可以对列进行抽样。控制这一行为的参数就是axis。当axis指定为0或者'index'时，对行进行抽样，当axis指定为1或者'col'时，对列进行抽样。默认执行的是行抽样。"
   ]
  },
  {
   "cell_type": "code",
   "execution_count": 23,
   "id": "cb32660a",
   "metadata": {},
   "outputs": [
    {
     "data": {
      "text/html": [
       "<div>\n",
       "<style scoped>\n",
       "    .dataframe tbody tr th:only-of-type {\n",
       "        vertical-align: middle;\n",
       "    }\n",
       "\n",
       "    .dataframe tbody tr th {\n",
       "        vertical-align: top;\n",
       "    }\n",
       "\n",
       "    .dataframe thead th {\n",
       "        text-align: right;\n",
       "    }\n",
       "</style>\n",
       "<table border=\"1\" class=\"dataframe\">\n",
       "  <thead>\n",
       "    <tr style=\"text-align: right;\">\n",
       "      <th></th>\n",
       "      <th>UserID</th>\n",
       "      <th>MovieID</th>\n",
       "      <th>Rating</th>\n",
       "      <th>Gender</th>\n",
       "      <th>Age</th>\n",
       "      <th>Occupation</th>\n",
       "      <th>UserID_idx</th>\n",
       "      <th>Gender_idx</th>\n",
       "      <th>Age_idx</th>\n",
       "      <th>Occupation_idx</th>\n",
       "      <th>Genres</th>\n",
       "      <th>MovieID_idx</th>\n",
       "      <th>Genres_idx</th>\n",
       "    </tr>\n",
       "  </thead>\n",
       "  <tbody>\n",
       "    <tr>\n",
       "      <th>1683</th>\n",
       "      <td>5916</td>\n",
       "      <td>1193</td>\n",
       "      <td>3</td>\n",
       "      <td>M</td>\n",
       "      <td>50</td>\n",
       "      <td>20</td>\n",
       "      <td>5915</td>\n",
       "      <td>1</td>\n",
       "      <td>4</td>\n",
       "      <td>4</td>\n",
       "      <td>Drama</td>\n",
       "      <td>1176</td>\n",
       "      <td>2</td>\n",
       "    </tr>\n",
       "    <tr>\n",
       "      <th>105129</th>\n",
       "      <td>3539</td>\n",
       "      <td>1690</td>\n",
       "      <td>4</td>\n",
       "      <td>F</td>\n",
       "      <td>25</td>\n",
       "      <td>4</td>\n",
       "      <td>3538</td>\n",
       "      <td>0</td>\n",
       "      <td>2</td>\n",
       "      <td>12</td>\n",
       "      <td>Action</td>\n",
       "      <td>1644</td>\n",
       "      <td>3</td>\n",
       "    </tr>\n",
       "    <tr>\n",
       "      <th>527501</th>\n",
       "      <td>1522</td>\n",
       "      <td>2011</td>\n",
       "      <td>3</td>\n",
       "      <td>M</td>\n",
       "      <td>35</td>\n",
       "      <td>20</td>\n",
       "      <td>1521</td>\n",
       "      <td>1</td>\n",
       "      <td>5</td>\n",
       "      <td>4</td>\n",
       "      <td>Comedy</td>\n",
       "      <td>1942</td>\n",
       "      <td>0</td>\n",
       "    </tr>\n",
       "  </tbody>\n",
       "</table>\n",
       "</div>"
      ],
      "text/plain": [
       "        UserID  MovieID  Rating Gender  Age  Occupation  UserID_idx  \\\n",
       "1683      5916     1193       3      M   50          20        5915   \n",
       "105129    3539     1690       4      F   25           4        3538   \n",
       "527501    1522     2011       3      M   35          20        1521   \n",
       "\n",
       "        Gender_idx  Age_idx  Occupation_idx  Genres  MovieID_idx  Genres_idx  \n",
       "1683             1        4               4   Drama         1176           2  \n",
       "105129           0        2              12  Action         1644           3  \n",
       "527501           1        5               4  Comedy         1942           0  "
      ]
     },
     "execution_count": 23,
     "metadata": {},
     "output_type": "execute_result"
    }
   ],
   "source": [
    "df.sample(frac=1).head(3)"
   ]
  },
  {
   "cell_type": "code",
   "execution_count": 24,
   "id": "f53609e0",
   "metadata": {},
   "outputs": [],
   "source": [
    "num_users = df[\"UserID_idx\"].max() + 1\n",
    "num_movies = df[\"MovieID_idx\"].max() + 1\n",
    "num_genders = df[\"Gender_idx\"].max() + 1\n",
    "num_ages = df[\"Age_idx\"].max() + 1\n",
    "num_occupations = df[\"Occupation_idx\"].max() + 1\n",
    "num_genres = df[\"Genres_idx\"].max() + 1"
   ]
  },
  {
   "cell_type": "code",
   "execution_count": 25,
   "id": "36b1b546",
   "metadata": {},
   "outputs": [
    {
     "data": {
      "text/plain": [
       "(6040, 3883, 2, 7, 21, 18)"
      ]
     },
     "execution_count": 25,
     "metadata": {},
     "output_type": "execute_result"
    }
   ],
   "source": [
    "num_users, num_movies, num_genders, num_ages, num_occupations, num_genres"
   ]
  },
  {
   "cell_type": "markdown",
   "id": "325c1a08",
   "metadata": {},
   "source": [
    "3.4 评分的归一化"
   ]
  },
  {
   "cell_type": "code",
   "execution_count": 26,
   "id": "aaab5e6b",
   "metadata": {},
   "outputs": [],
   "source": [
    "min_rating = df[\"Rating\"].min()\n",
    "max_rating = df[\"Rating\"].max()\n",
    "df[\"Rating\"] = df[\"Rating\"].map(lambda x : (x-min_rating)/(max_rating - min_rating))"
   ]
  },
  {
   "cell_type": "code",
   "execution_count": 27,
   "id": "ab22f9a2",
   "metadata": {},
   "outputs": [
    {
     "data": {
      "text/html": [
       "<div>\n",
       "<style scoped>\n",
       "    .dataframe tbody tr th:only-of-type {\n",
       "        vertical-align: middle;\n",
       "    }\n",
       "\n",
       "    .dataframe tbody tr th {\n",
       "        vertical-align: top;\n",
       "    }\n",
       "\n",
       "    .dataframe thead th {\n",
       "        text-align: right;\n",
       "    }\n",
       "</style>\n",
       "<table border=\"1\" class=\"dataframe\">\n",
       "  <thead>\n",
       "    <tr style=\"text-align: right;\">\n",
       "      <th></th>\n",
       "      <th>UserID</th>\n",
       "      <th>MovieID</th>\n",
       "      <th>Rating</th>\n",
       "      <th>Gender</th>\n",
       "      <th>Age</th>\n",
       "      <th>Occupation</th>\n",
       "      <th>UserID_idx</th>\n",
       "      <th>Gender_idx</th>\n",
       "      <th>Age_idx</th>\n",
       "      <th>Occupation_idx</th>\n",
       "      <th>Genres</th>\n",
       "      <th>MovieID_idx</th>\n",
       "      <th>Genres_idx</th>\n",
       "    </tr>\n",
       "  </thead>\n",
       "  <tbody>\n",
       "    <tr>\n",
       "      <th>604228</th>\n",
       "      <td>4400</td>\n",
       "      <td>1608</td>\n",
       "      <td>0.75</td>\n",
       "      <td>F</td>\n",
       "      <td>18</td>\n",
       "      <td>4</td>\n",
       "      <td>4399</td>\n",
       "      <td>0</td>\n",
       "      <td>6</td>\n",
       "      <td>12</td>\n",
       "      <td>Action</td>\n",
       "      <td>1566</td>\n",
       "      <td>3</td>\n",
       "    </tr>\n",
       "    <tr>\n",
       "      <th>694855</th>\n",
       "      <td>6007</td>\n",
       "      <td>2160</td>\n",
       "      <td>0.25</td>\n",
       "      <td>M</td>\n",
       "      <td>35</td>\n",
       "      <td>17</td>\n",
       "      <td>6006</td>\n",
       "      <td>1</td>\n",
       "      <td>5</td>\n",
       "      <td>8</td>\n",
       "      <td>Thriller</td>\n",
       "      <td>2091</td>\n",
       "      <td>5</td>\n",
       "    </tr>\n",
       "    <tr>\n",
       "      <th>841158</th>\n",
       "      <td>5861</td>\n",
       "      <td>965</td>\n",
       "      <td>0.75</td>\n",
       "      <td>F</td>\n",
       "      <td>50</td>\n",
       "      <td>1</td>\n",
       "      <td>5860</td>\n",
       "      <td>0</td>\n",
       "      <td>4</td>\n",
       "      <td>6</td>\n",
       "      <td>Thriller</td>\n",
       "      <td>953</td>\n",
       "      <td>5</td>\n",
       "    </tr>\n",
       "  </tbody>\n",
       "</table>\n",
       "</div>"
      ],
      "text/plain": [
       "        UserID  MovieID  Rating Gender  Age  Occupation  UserID_idx  \\\n",
       "604228    4400     1608    0.75      F   18           4        4399   \n",
       "694855    6007     2160    0.25      M   35          17        6006   \n",
       "841158    5861      965    0.75      F   50           1        5860   \n",
       "\n",
       "        Gender_idx  Age_idx  Occupation_idx    Genres  MovieID_idx  Genres_idx  \n",
       "604228           0        6              12    Action         1566           3  \n",
       "694855           1        5               8  Thriller         2091           5  \n",
       "841158           0        4               6  Thriller          953           5  "
      ]
     },
     "execution_count": 27,
     "metadata": {},
     "output_type": "execute_result"
    }
   ],
   "source": [
    "df.sample(frac=1).head(3)"
   ]
  },
  {
   "cell_type": "markdown",
   "id": "580e8909",
   "metadata": {},
   "source": [
    "4.构建训练数据集"
   ]
  },
  {
   "cell_type": "code",
   "execution_count": 28,
   "id": "abca1134",
   "metadata": {},
   "outputs": [],
   "source": [
    "df_sample = df.sample(frac=0.1)\n",
    "X = df_sample[[\"UserID_idx\",\"Gender_idx\",\"Age_idx\",\"Occupation_idx\",\"MovieID_idx\",\"Genres_idx\"]]\n",
    "Y = df_sample[\"Rating\"]"
   ]
  },
  {
   "cell_type": "markdown",
   "id": "66d27c23",
   "metadata": {},
   "source": [
    "5.搭建双塔模型并训练\n",
    "内外积的实现\n",
    "https://blog.csdn.net/Young824/article/details/105049099"
   ]
  },
  {
   "cell_type": "code",
   "execution_count": 29,
   "id": "d11a9bd1",
   "metadata": {},
   "outputs": [],
   "source": [
    "def get_model():\n",
    "    #输入\n",
    "    user_id = keras.layers.Input(shape=(1,),name=\"user_id\")\n",
    "    gender = keras.layers.Input(shape=(1,),name=\"gender\")\n",
    "    age = keras.layers.Input(shape=(1,),name=\"age\")\n",
    "    occupation = keras.layers.Input(shape=(1,), name=\"occupation\")\n",
    "    movie_id = keras.layers.Input(shape=(1,), name=\"movie_id\")\n",
    "    genre = keras.layers.Input(shape=(1,), name=\"genre\")\n",
    "    \n",
    "    #user 塔\n",
    "    user_vector = tf.keras.layers.concatenate([\n",
    "        layers.Embedding(num_users,100)(user_id),\n",
    "        layers.Embedding(num_genders, 2)(gender), \n",
    "        layers.Embedding(num_ages, 2)(age), \n",
    "        layers.Embedding(num_occupations, 2)(occupation)\n",
    "    ])\n",
    "    user_vector = layers.Dense(32,activation='relu')(user_vector)\n",
    "    user_vector = layers.Dense(8, activation='relu',\n",
    "                             name='user_embedding',\n",
    "                             kernel_regularizer='l2')(user_vector)\n",
    "    \n",
    "    #item 塔\n",
    "    movie_vector = tf.keras.layers.concatenate([\n",
    "        layers.Embedding(num_movies,100)(movie_id),\n",
    "        layers.Embedding(num_genres,2)(genre)\n",
    "    ])\n",
    "    movie_vector = layers.Dense(32, activation='relu')(movie_vector)\n",
    "    movie_vector = layers.Dense(8,activation='relu', \n",
    "                               name='movie_embedding',\n",
    "                               kernel_regularizer='l2')(movie_vector)\n",
    "    #计算点击\n",
    "    dot_user_movie = tf.keras.layers.Dot(axes=1)([movie_vector, user_vector])\n",
    "    output = layers.Dense(1, activation='sigmoid')(dot_user_movie)\n",
    "    return keras.models.Model(inputs=[user_id, gender, age, occupation, movie_id, genre],\n",
    "                             outputs=[output])"
   ]
  },
  {
   "cell_type": "code",
   "execution_count": 30,
   "id": "afc16a57",
   "metadata": {},
   "outputs": [
    {
     "name": "stderr",
     "output_type": "stream",
     "text": [
      "2022-11-24 12:32:10.612331: I tensorflow/core/platform/cpu_feature_guard.cc:193] This TensorFlow binary is optimized with oneAPI Deep Neural Network Library (oneDNN) to use the following CPU instructions in performance-critical operations:  SSE4.1 SSE4.2\n",
      "To enable them in other operations, rebuild TensorFlow with the appropriate compiler flags.\n"
     ]
    }
   ],
   "source": [
    "model = get_model()\n",
    "model.compile(loss=tf.keras.losses.MeanSquaredError(),\n",
    "             optimizer=tf.keras.optimizers.RMSprop())"
   ]
  },
  {
   "cell_type": "code",
   "execution_count": 31,
   "id": "263430f4",
   "metadata": {},
   "outputs": [
    {
     "name": "stdout",
     "output_type": "stream",
     "text": [
      "Epoch 1/5\n",
      "3126/3126 [==============================] - 6s 2ms/step - loss: 0.0729\n",
      "Epoch 2/5\n",
      "3126/3126 [==============================] - 5s 2ms/step - loss: 0.0567\n",
      "Epoch 3/5\n",
      "3126/3126 [==============================] - 5s 2ms/step - loss: 0.0547\n",
      "Epoch 4/5\n",
      "3126/3126 [==============================] - 5s 2ms/step - loss: 0.0537\n",
      "Epoch 5/5\n",
      "3126/3126 [==============================] - 5s 2ms/step - loss: 0.0531\n"
     ]
    }
   ],
   "source": [
    "fit_x_train = [\n",
    "        X[\"UserID_idx\"], \n",
    "        X[\"Gender_idx\"],\n",
    "        X[\"Age_idx\"],\n",
    "        X[\"Occupation_idx\"],\n",
    "        X[\"MovieID_idx\"],\n",
    "        X[\"Genres_idx\"]\n",
    "    ]\n",
    "\n",
    "history = model.fit(x=fit_x_train,y=Y,batch_size=32, epochs=5,verbose=1)"
   ]
  },
  {
   "cell_type": "markdown",
   "id": "82e2c883",
   "metadata": {},
   "source": [
    "6.利用模型进行预测\n"
   ]
  },
  {
   "cell_type": "code",
   "execution_count": 32,
   "id": "b5860d7d",
   "metadata": {},
   "outputs": [],
   "source": [
    "inputs = df[[\"UserID_idx\",\"Gender_idx\",\"Age_idx\",\"Occupation_idx\",\"MovieID_idx\", \"Genres_idx\"]].head(5)"
   ]
  },
  {
   "cell_type": "code",
   "execution_count": 33,
   "id": "53cc5c60",
   "metadata": {},
   "outputs": [
    {
     "data": {
      "text/html": [
       "<div>\n",
       "<style scoped>\n",
       "    .dataframe tbody tr th:only-of-type {\n",
       "        vertical-align: middle;\n",
       "    }\n",
       "\n",
       "    .dataframe tbody tr th {\n",
       "        vertical-align: top;\n",
       "    }\n",
       "\n",
       "    .dataframe thead th {\n",
       "        text-align: right;\n",
       "    }\n",
       "</style>\n",
       "<table border=\"1\" class=\"dataframe\">\n",
       "  <thead>\n",
       "    <tr style=\"text-align: right;\">\n",
       "      <th></th>\n",
       "      <th>UserID_idx</th>\n",
       "      <th>Gender_idx</th>\n",
       "      <th>Age_idx</th>\n",
       "      <th>Occupation_idx</th>\n",
       "      <th>MovieID_idx</th>\n",
       "      <th>Genres_idx</th>\n",
       "    </tr>\n",
       "  </thead>\n",
       "  <tbody>\n",
       "    <tr>\n",
       "      <th>0</th>\n",
       "      <td>0</td>\n",
       "      <td>0</td>\n",
       "      <td>0</td>\n",
       "      <td>0</td>\n",
       "      <td>1176</td>\n",
       "      <td>2</td>\n",
       "    </tr>\n",
       "    <tr>\n",
       "      <th>1</th>\n",
       "      <td>1</td>\n",
       "      <td>1</td>\n",
       "      <td>1</td>\n",
       "      <td>1</td>\n",
       "      <td>1176</td>\n",
       "      <td>2</td>\n",
       "    </tr>\n",
       "    <tr>\n",
       "      <th>2</th>\n",
       "      <td>11</td>\n",
       "      <td>1</td>\n",
       "      <td>2</td>\n",
       "      <td>7</td>\n",
       "      <td>1176</td>\n",
       "      <td>2</td>\n",
       "    </tr>\n",
       "    <tr>\n",
       "      <th>3</th>\n",
       "      <td>14</td>\n",
       "      <td>1</td>\n",
       "      <td>2</td>\n",
       "      <td>3</td>\n",
       "      <td>1176</td>\n",
       "      <td>2</td>\n",
       "    </tr>\n",
       "    <tr>\n",
       "      <th>4</th>\n",
       "      <td>16</td>\n",
       "      <td>1</td>\n",
       "      <td>4</td>\n",
       "      <td>6</td>\n",
       "      <td>1176</td>\n",
       "      <td>2</td>\n",
       "    </tr>\n",
       "  </tbody>\n",
       "</table>\n",
       "</div>"
      ],
      "text/plain": [
       "   UserID_idx  Gender_idx  Age_idx  Occupation_idx  MovieID_idx  Genres_idx\n",
       "0           0           0        0               0         1176           2\n",
       "1           1           1        1               1         1176           2\n",
       "2          11           1        2               7         1176           2\n",
       "3          14           1        2               3         1176           2\n",
       "4          16           1        4               6         1176           2"
      ]
     },
     "execution_count": 33,
     "metadata": {},
     "output_type": "execute_result"
    }
   ],
   "source": [
    "inputs"
   ]
  },
  {
   "cell_type": "code",
   "execution_count": 34,
   "id": "35f90567",
   "metadata": {},
   "outputs": [
    {
     "name": "stdout",
     "output_type": "stream",
     "text": [
      "1/1 [==============================] - 0s 127ms/step\n"
     ]
    },
    {
     "data": {
      "text/plain": [
       "array([[[0.9223587 ],\n",
       "        [0.9223587 ],\n",
       "        [0.9223587 ],\n",
       "        [0.9223587 ],\n",
       "        [0.9223587 ],\n",
       "        [0.9223587 ],\n",
       "        [0.9223587 ],\n",
       "        [0.9223587 ]],\n",
       "\n",
       "       [[0.80911   ],\n",
       "        [0.80911   ],\n",
       "        [0.80911   ],\n",
       "        [0.80911   ],\n",
       "        [0.80911   ],\n",
       "        [0.80911   ],\n",
       "        [0.80911   ],\n",
       "        [0.80911   ]],\n",
       "\n",
       "       [[0.88282526],\n",
       "        [0.88282526],\n",
       "        [0.88282526],\n",
       "        [0.88282526],\n",
       "        [0.88282526],\n",
       "        [0.88282526],\n",
       "        [0.88282526],\n",
       "        [0.8828252 ]],\n",
       "\n",
       "       [[0.81284165],\n",
       "        [0.81284165],\n",
       "        [0.81284165],\n",
       "        [0.81284165],\n",
       "        [0.81284165],\n",
       "        [0.81284165],\n",
       "        [0.81284165],\n",
       "        [0.81284165]],\n",
       "\n",
       "       [[0.9044121 ],\n",
       "        [0.9044121 ],\n",
       "        [0.9044121 ],\n",
       "        [0.9044121 ],\n",
       "        [0.9044121 ],\n",
       "        [0.9044121 ],\n",
       "        [0.9044121 ],\n",
       "        [0.90441203]]], dtype=float32)"
      ]
     },
     "execution_count": 34,
     "metadata": {},
     "output_type": "execute_result"
    }
   ],
   "source": [
    "model.predict([ inputs[\"UserID_idx\"], \n",
    "        inputs[\"Gender_idx\"],\n",
    "        inputs[\"Age_idx\"],\n",
    "        inputs[\"Occupation_idx\"],\n",
    "        inputs[\"MovieID_idx\"],\n",
    "        inputs[\"Genres_idx\"]])"
   ]
  },
  {
   "cell_type": "markdown",
   "id": "7aa9bde4",
   "metadata": {},
   "source": [
    "7.可以提取模型中的user embedding\n",
    "7.1 得到user 的embedding"
   ]
  },
  {
   "cell_type": "code",
   "execution_count": 35,
   "id": "a9411819",
   "metadata": {},
   "outputs": [
    {
     "data": {
      "text/plain": [
       "[<KerasTensor: shape=(None, 1) dtype=float32 (created by layer 'user_id')>,\n",
       " <KerasTensor: shape=(None, 1) dtype=float32 (created by layer 'gender')>,\n",
       " <KerasTensor: shape=(None, 1) dtype=float32 (created by layer 'age')>,\n",
       " <KerasTensor: shape=(None, 1) dtype=float32 (created by layer 'occupation')>,\n",
       " <KerasTensor: shape=(None, 1) dtype=float32 (created by layer 'movie_id')>,\n",
       " <KerasTensor: shape=(None, 1) dtype=float32 (created by layer 'genre')>]"
      ]
     },
     "execution_count": 35,
     "metadata": {},
     "output_type": "execute_result"
    }
   ],
   "source": [
    "model.input"
   ]
  },
  {
   "cell_type": "code",
   "execution_count": 36,
   "id": "a7f109d6",
   "metadata": {},
   "outputs": [],
   "source": [
    "user_layer_model = keras.models.Model(\n",
    "    inputs=[model.input[0],model.input[1],model.input[2],model.input[3]],\n",
    "    outputs=model.get_layer(\"user_embedding\").output\n",
    ")"
   ]
  },
  {
   "cell_type": "code",
   "execution_count": 37,
   "id": "c6a5d135",
   "metadata": {},
   "outputs": [
    {
     "data": {
      "text/plain": [
       "()"
      ]
     },
     "execution_count": 37,
     "metadata": {},
     "output_type": "execute_result"
    }
   ],
   "source": [
    "df_user.loc[0][\"UserID\"].shape"
   ]
  },
  {
   "cell_type": "code",
   "execution_count": 38,
   "id": "4578c96c",
   "metadata": {},
   "outputs": [
    {
     "data": {
      "text/plain": [
       "array([[1]])"
      ]
     },
     "execution_count": 38,
     "metadata": {},
     "output_type": "execute_result"
    }
   ],
   "source": [
    "np.reshape(df_user.loc[0][\"UserID\"],[1,1])"
   ]
  },
  {
   "cell_type": "code",
   "execution_count": 39,
   "id": "4dde7192",
   "metadata": {},
   "outputs": [],
   "source": [
    "user_input = [\n",
    "        np.reshape(df_user.loc[0][\"UserID_idx\"], [1,1]),\n",
    "        np.reshape(df_user.loc[0][\"Gender_idx\"], [1,1]),\n",
    "        np.reshape(df_user.loc[0][\"Age_idx\"], [1,1]),\n",
    "        np.reshape(df_user.loc[0][\"Occupation_idx\"], [1,1])\n",
    "    ]"
   ]
  },
  {
   "cell_type": "code",
   "execution_count": 40,
   "id": "85343fd3",
   "metadata": {},
   "outputs": [
    {
     "data": {
      "text/plain": [
       "[array([[0]]), array([[0]]), array([[0]]), array([[0]])]"
      ]
     },
     "execution_count": 40,
     "metadata": {},
     "output_type": "execute_result"
    }
   ],
   "source": [
    "user_input"
   ]
  },
  {
   "cell_type": "markdown",
   "id": "e2d9c55f",
   "metadata": {},
   "source": [
    "join函数的语法及用法 (1)语法:'sep'.join(sep_object)"
   ]
  },
  {
   "cell_type": "code",
   "execution_count": 41,
   "id": "ba062ca3",
   "metadata": {},
   "outputs": [],
   "source": [
    "user_embeddings = []\n",
    "for index, row in df_user.iterrows():\n",
    "    user_id = row[\"UserID\"]\n",
    "    user_input = [\n",
    "        np.reshape(row[\"UserID_idx\"],[1,1]),\n",
    "        np.reshape(row[\"Gender_idx\"],[1,1]),\n",
    "        np.reshape(row[\"Age_idx\"],[1,1]),\n",
    "        np.reshape(row[\"Occupation_idx\"],[1,1])\n",
    "    ]\n",
    "    user_embedding = user_layer_model(user_input)\n",
    "    embedding_str = \",\".join([str(x) for x in user_embedding.numpy().flatten()])\n",
    "    user_embeddings.append([user_id,embedding_str])\n",
    "df_user_embedding = pd.DataFrame(user_embeddings, columns = [\"user_id\",\"user_embedding\"])"
   ]
  },
  {
   "cell_type": "code",
   "execution_count": 42,
   "id": "bafc68bd",
   "metadata": {},
   "outputs": [
    {
     "data": {
      "text/html": [
       "<div>\n",
       "<style scoped>\n",
       "    .dataframe tbody tr th:only-of-type {\n",
       "        vertical-align: middle;\n",
       "    }\n",
       "\n",
       "    .dataframe tbody tr th {\n",
       "        vertical-align: top;\n",
       "    }\n",
       "\n",
       "    .dataframe thead th {\n",
       "        text-align: right;\n",
       "    }\n",
       "</style>\n",
       "<table border=\"1\" class=\"dataframe\">\n",
       "  <thead>\n",
       "    <tr style=\"text-align: right;\">\n",
       "      <th></th>\n",
       "      <th>user_id</th>\n",
       "      <th>user_embedding</th>\n",
       "    </tr>\n",
       "  </thead>\n",
       "  <tbody>\n",
       "    <tr>\n",
       "      <th>0</th>\n",
       "      <td>1</td>\n",
       "      <td>0.0,0.6361018,0.0,0.0,0.8173893,0.69815946,0.8...</td>\n",
       "    </tr>\n",
       "    <tr>\n",
       "      <th>1</th>\n",
       "      <td>2</td>\n",
       "      <td>0.0,0.5119589,0.0,0.0,0.5495044,0.5283283,0.54...</td>\n",
       "    </tr>\n",
       "    <tr>\n",
       "      <th>2</th>\n",
       "      <td>3</td>\n",
       "      <td>0.0,0.62886083,0.0,0.0,0.8003235,0.6877961,0.8...</td>\n",
       "    </tr>\n",
       "    <tr>\n",
       "      <th>3</th>\n",
       "      <td>4</td>\n",
       "      <td>0.0,0.53765434,0.0,0.0,0.60572064,0.5631246,0....</td>\n",
       "    </tr>\n",
       "    <tr>\n",
       "      <th>4</th>\n",
       "      <td>5</td>\n",
       "      <td>0.0,0.43246138,0.0,0.0,0.37417445,0.41909945,0...</td>\n",
       "    </tr>\n",
       "  </tbody>\n",
       "</table>\n",
       "</div>"
      ],
      "text/plain": [
       "   user_id                                     user_embedding\n",
       "0        1  0.0,0.6361018,0.0,0.0,0.8173893,0.69815946,0.8...\n",
       "1        2  0.0,0.5119589,0.0,0.0,0.5495044,0.5283283,0.54...\n",
       "2        3  0.0,0.62886083,0.0,0.0,0.8003235,0.6877961,0.8...\n",
       "3        4  0.0,0.53765434,0.0,0.0,0.60572064,0.5631246,0....\n",
       "4        5  0.0,0.43246138,0.0,0.0,0.37417445,0.41909945,0..."
      ]
     },
     "execution_count": 42,
     "metadata": {},
     "output_type": "execute_result"
    }
   ],
   "source": [
    "df_user_embedding.head()"
   ]
  },
  {
   "cell_type": "markdown",
   "id": "d0048730",
   "metadata": {},
   "source": [
    "7.2 得到movie的embedding"
   ]
  },
  {
   "cell_type": "code",
   "execution_count": 45,
   "id": "cd32f825",
   "metadata": {},
   "outputs": [],
   "source": [
    "movie_layer_model = tf.keras.models.Model(\n",
    "    inputs=[model.input[4], model.input[5]],\n",
    "    outputs=model.get_layer(\"movie_embedding\").output\n",
    ")\n",
    "movie_embeddings = []\n",
    "for index, row in df_movie.iterrows():\n",
    "    movie_id = row[\"MovieID\"]\n",
    "    movie_input = [\n",
    "        np.reshape(row[\"MovieID_idx\"],[1,1]),\n",
    "        np.reshape(row[\"Genres_idx\"],[1,1])\n",
    "    ]\n",
    "    movie_embedding = movie_layer_model(movie_input)\n",
    "    embedding_str = \",\".join([str(x) for x in movie_embedding.numpy().flatten()])\n",
    "    movie_embeddings.append([movie_id, embedding_str])"
   ]
  },
  {
   "cell_type": "code",
   "execution_count": 47,
   "id": "5605adae",
   "metadata": {},
   "outputs": [
    {
     "data": {
      "text/html": [
       "<div>\n",
       "<style scoped>\n",
       "    .dataframe tbody tr th:only-of-type {\n",
       "        vertical-align: middle;\n",
       "    }\n",
       "\n",
       "    .dataframe tbody tr th {\n",
       "        vertical-align: top;\n",
       "    }\n",
       "\n",
       "    .dataframe thead th {\n",
       "        text-align: right;\n",
       "    }\n",
       "</style>\n",
       "<table border=\"1\" class=\"dataframe\">\n",
       "  <thead>\n",
       "    <tr style=\"text-align: right;\">\n",
       "      <th></th>\n",
       "      <th>movie_id</th>\n",
       "      <th>movie_embedding</th>\n",
       "    </tr>\n",
       "  </thead>\n",
       "  <tbody>\n",
       "    <tr>\n",
       "      <th>0</th>\n",
       "      <td>1</td>\n",
       "      <td>0.77566123,0.7756612,0.77566123,0.77566123,0.7...</td>\n",
       "    </tr>\n",
       "    <tr>\n",
       "      <th>1</th>\n",
       "      <td>2</td>\n",
       "      <td>0.44748273,0.44748273,0.44748276,0.44748273,0....</td>\n",
       "    </tr>\n",
       "    <tr>\n",
       "      <th>2</th>\n",
       "      <td>3</td>\n",
       "      <td>0.3875825,0.3875825,0.3875825,0.3875825,0.3875...</td>\n",
       "    </tr>\n",
       "    <tr>\n",
       "      <th>3</th>\n",
       "      <td>4</td>\n",
       "      <td>0.32614362,0.32614362,0.3261436,0.32614362,0.3...</td>\n",
       "    </tr>\n",
       "    <tr>\n",
       "      <th>4</th>\n",
       "      <td>5</td>\n",
       "      <td>0.36609992,0.36609992,0.36609992,0.36609992,0....</td>\n",
       "    </tr>\n",
       "  </tbody>\n",
       "</table>\n",
       "</div>"
      ],
      "text/plain": [
       "   movie_id                                    movie_embedding\n",
       "0         1  0.77566123,0.7756612,0.77566123,0.77566123,0.7...\n",
       "1         2  0.44748273,0.44748273,0.44748276,0.44748273,0....\n",
       "2         3  0.3875825,0.3875825,0.3875825,0.3875825,0.3875...\n",
       "3         4  0.32614362,0.32614362,0.3261436,0.32614362,0.3...\n",
       "4         5  0.36609992,0.36609992,0.36609992,0.36609992,0...."
      ]
     },
     "execution_count": 47,
     "metadata": {},
     "output_type": "execute_result"
    }
   ],
   "source": [
    "df_movie_embedding=pd.DataFrame(movie_embeddings,columns = [\"movie_id\",\"movie_embedding\"])\n",
    "df_movie_embedding.head()"
   ]
  },
  {
   "cell_type": "code",
   "execution_count": null,
   "id": "0ded1e4c",
   "metadata": {},
   "outputs": [],
   "source": []
  }
 ],
 "metadata": {
  "kernelspec": {
   "display_name": "Python 3 (ipykernel)",
   "language": "python",
   "name": "python3"
  },
  "language_info": {
   "codemirror_mode": {
    "name": "ipython",
    "version": 3
   },
   "file_extension": ".py",
   "mimetype": "text/x-python",
   "name": "python",
   "nbconvert_exporter": "python",
   "pygments_lexer": "ipython3",
   "version": "3.10.6"
  }
 },
 "nbformat": 4,
 "nbformat_minor": 5
}
